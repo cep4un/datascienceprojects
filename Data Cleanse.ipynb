{
 "cells": [
  {
   "cell_type": "code",
   "execution_count": 168,
   "metadata": {},
   "outputs": [],
   "source": [
    "import pandas as pd\n",
    "import numpy as np\n",
    "from matplotlib import pyplot as plt\n",
    "import seaborn as sns\n",
    "import sklearn\n",
    "from sklearn.tree import DecisionTreeRegressor\n",
    "from sklearn.model_selection import train_test_split, cross_val_score"
   ]
  },
  {
   "cell_type": "code",
   "execution_count": 3,
   "metadata": {},
   "outputs": [],
   "source": [
    "batting = pd.read_csv(r'C:\\Users\\Chris Puglisi\\Data Science Projects\\Baseball Betting Hedge Fund\\baseballdatabank-master\\core\\Batting.csv')\n",
    "teams = pd.read_csv(r'C:\\Users\\Chris Puglisi\\Data Science Projects\\Baseball Betting Hedge Fund\\baseballdatabank-master\\core\\Teams.csv')\n",
    "pitching = pd.read_csv(r'C:\\Users\\Chris Puglisi\\Data Science Projects\\Baseball Betting Hedge Fund\\baseballdatabank-master\\core\\Pitching.csv')"
   ]
  },
  {
   "cell_type": "code",
   "execution_count": 4,
   "metadata": {},
   "outputs": [
    {
     "name": "stderr",
     "output_type": "stream",
     "text": [
      "C:\\Users\\Chris Puglisi\\Anacondathreefive\\lib\\site-packages\\ipykernel_launcher.py:4: SettingWithCopyWarning: \n",
      "A value is trying to be set on a copy of a slice from a DataFrame.\n",
      "Try using .loc[row_indexer,col_indexer] = value instead\n",
      "\n",
      "See the caveats in the documentation: http://pandas.pydata.org/pandas-docs/stable/indexing.html#indexing-view-versus-copy\n",
      "  after removing the cwd from sys.path.\n"
     ]
    }
   ],
   "source": [
    "teams_2003_17 = teams[teams['yearID']> 1920]\n",
    "RS_test_train = teams_2003_17[['yearID','teamID','lgID','divID','Ghome','W','R','AB','H','2B','3B','HR','SB','BB','RA','HA','HRA','BBA','SOA','E','FP']]\n",
    "\n",
    "RS_test_train['teamID'] = RS_test_train['teamID'] + RS_test_train['yearID'].map(str)\n",
    "\n",
    "RS_test_train = RS_test_train.set_index('teamID')"
   ]
  },
  {
   "cell_type": "code",
   "execution_count": 5,
   "metadata": {},
   "outputs": [],
   "source": [
    "df_2004=RS_test_train.loc[RS_test_train['yearID']== 2004]\n",
    "df_2005=RS_test_train.loc[RS_test_train['yearID']== 2005]\n",
    "df_2006=RS_test_train.loc[RS_test_train['yearID']== 2006]\n",
    "df_2007=RS_test_train.loc[RS_test_train['yearID']== 2007]\n",
    "df_2008=RS_test_train.loc[RS_test_train['yearID']== 2008]\n",
    "df_2009=RS_test_train.loc[RS_test_train['yearID']== 2009]\n",
    "df_2010=RS_test_train.loc[RS_test_train['yearID']== 2010]\n",
    "df_2011=RS_test_train.loc[RS_test_train['yearID']== 2011]\n",
    "df_2012=RS_test_train.loc[RS_test_train['yearID']== 2012]\n",
    "df_2013=RS_test_train.loc[RS_test_train['yearID']== 2013]\n",
    "df_2014=RS_test_train.loc[RS_test_train['yearID']== 2014]\n",
    "df_2015=RS_test_train.loc[RS_test_train['yearID']== 2015]\n",
    "df_2016=RS_test_train.loc[RS_test_train['yearID']== 2016]\n",
    "df_2017=RS_test_train.loc[RS_test_train['yearID']== 2017]"
   ]
  },
  {
   "cell_type": "code",
   "execution_count": 6,
   "metadata": {},
   "outputs": [],
   "source": [
    "RS_test_train_yrdrop = RS_test_train.drop('yearID', 1)\n",
    "#RS_test_train_yrdrop = RS_test_train_yrdrop.drop('W', 1)\n",
    "RS_ML = RS_test_train_yrdrop\n",
    "\n",
    "RS_ML['lgdivID'] = RS_ML['lgID'] + RS_ML['divID']\n",
    "RS_ML = RS_ML.drop(['lgID','divID'], axis = 1)"
   ]
  },
  {
   "cell_type": "code",
   "execution_count": 7,
   "metadata": {},
   "outputs": [],
   "source": [
    "RS_ML['lgdivID'] = RS_ML['lgdivID'].astype('category')\n",
    "RS_ML['lgdivID'] = RS_ML['lgdivID'].cat.codes"
   ]
  },
  {
   "cell_type": "code",
   "execution_count": 8,
   "metadata": {},
   "outputs": [],
   "source": [
    "train, test = train_test_split(RS_ML, test_size = 0.15)\n",
    "\n",
    "train_x = train.drop('W', 1)\n",
    "train_y = train['W']\n",
    "\n",
    "test_x = test.drop('W', 1)\n",
    "test_y = test['W']"
   ]
  },
  {
   "cell_type": "code",
   "execution_count": 9,
   "metadata": {},
   "outputs": [],
   "source": [
    "tree = DecisionTreeRegressor(criterion = 'mse', max_depth = 100)\n",
    "\n",
    "tree.fit(train_x, train_y)\n",
    "\n",
    "tree_predictions = tree.predict(test_x)"
   ]
  },
  {
   "cell_type": "code",
   "execution_count": 10,
   "metadata": {},
   "outputs": [
    {
     "data": {
      "text/plain": [
       "array([0.77789816, 0.7623852 , 0.5735478 , 0.48802781, 0.55716134])"
      ]
     },
     "execution_count": 10,
     "metadata": {},
     "output_type": "execute_result"
    }
   ],
   "source": [
    "cross_val_score(tree, test.drop('W',1), test['W'], cv = 5)"
   ]
  },
  {
   "cell_type": "code",
   "execution_count": 11,
   "metadata": {},
   "outputs": [],
   "source": [
    "gain_tree1 = pd.DataFrame({'Gain': tree.feature_importances_}, index = train_x.columns).sort_values('Gain', ascending = False)"
   ]
  },
  {
   "cell_type": "code",
   "execution_count": 12,
   "metadata": {},
   "outputs": [],
   "source": [
    "#pd.crosstab(test_y, tree_predictions, rownames=['Actual'], colnames = ['Predicted:'], margins = True)"
   ]
  },
  {
   "cell_type": "code",
   "execution_count": 13,
   "metadata": {},
   "outputs": [],
   "source": [
    "df_top5 = RS_ML[['W','RA','R','BB','HR','H']]"
   ]
  },
  {
   "cell_type": "code",
   "execution_count": 14,
   "metadata": {},
   "outputs": [],
   "source": [
    "traintop5, testtop5 = train_test_split(df_top5, test_size = 0.15)\n",
    "\n",
    "traintop5_x = traintop5.drop('W', 1)\n",
    "traintop5_y = traintop5['W']\n",
    "\n",
    "testtop5_x = testtop5.drop('W', 1)\n",
    "testtop5_y = testtop5['W']"
   ]
  },
  {
   "cell_type": "code",
   "execution_count": 15,
   "metadata": {},
   "outputs": [],
   "source": [
    "tree5 = DecisionTreeRegressor(criterion = 'mse', max_depth = 10)\n",
    "\n",
    "tree5.fit(traintop5_x, traintop5_y)\n",
    "\n",
    "tree5_predictions = tree5.predict(testtop5_x)"
   ]
  },
  {
   "cell_type": "code",
   "execution_count": 16,
   "metadata": {},
   "outputs": [
    {
     "data": {
      "text/plain": [
       "array([0.64262498, 0.71465528, 0.6006179 , 0.53105226, 0.60177768])"
      ]
     },
     "execution_count": 16,
     "metadata": {},
     "output_type": "execute_result"
    }
   ],
   "source": [
    "cross_val_score(tree, test.drop('W',1), test['W'], cv = 5)"
   ]
  },
  {
   "cell_type": "markdown",
   "metadata": {},
   "source": [
    "# Picking the Right Model\n"
   ]
  },
  {
   "cell_type": "code",
   "execution_count": 154,
   "metadata": {},
   "outputs": [
    {
     "name": "stdout",
     "output_type": "stream",
     "text": [
      "Collecting xgboost\n",
      "  Downloading https://files.pythonhosted.org/packages/1d/e7/5258cb787dc036f419ec57491decf8bfa89ab52c401b08b4b9228e43dc4c/xgboost-0.81-py2.py3-none-win_amd64.whl (7.4MB)\n",
      "Requirement already satisfied: scipy in c:\\users\\chris puglisi\\anacondathreefive\\lib\\site-packages (from xgboost) (1.1.0)\n",
      "Requirement already satisfied: numpy in c:\\users\\chris puglisi\\anacondathreefive\\lib\\site-packages (from xgboost) (1.15.1)\n",
      "Installing collected packages: xgboost\n",
      "Successfully installed xgboost-0.81\n"
     ]
    }
   ],
   "source": [
    "#lets use the high feature data fisrt\n",
    "!pip3 install xgboost"
   ]
  },
  {
   "cell_type": "code",
   "execution_count": 155,
   "metadata": {},
   "outputs": [],
   "source": [
    "from sklearn import ensemble, svm, linear_model\n",
    "from sklearn.svm import SVR\n",
    "from sklearn.linear_model import ridge_regression, Lasso\n",
    "from sklearn import model_selection\n",
    "import xgboost\n",
    "from xgboost import XGBRegressor\n",
    "import warnings\n",
    "from sklearn.model_selection import cross_val_predict\n",
    "from sklearn.metrics import confusion_matrix, accuracy_score, mean_squared_error\n",
    "warnings.filterwarnings('ignore')"
   ]
  },
  {
   "cell_type": "code",
   "execution_count": 157,
   "metadata": {},
   "outputs": [],
   "source": [
    "MLA = [\n",
    "    \n",
    "    #Ensemble Methods\n",
    "    ensemble.AdaBoostRegressor(),\n",
    "    ensemble.BaggingRegressor(),\n",
    "    #ensemble.ExtraTreesClassifier(),\n",
    "    #ensemble.GradientBoostingClassifier(),\n",
    "    ensemble.RandomForestRegressor(),\n",
    "    \n",
    "    #Support Vector Regression\n",
    "    svm.SVR(kernel ='rbf'),\n",
    "    #svm.SVR(kernel = 'linear'),\n",
    "    #svm.SVR(kernel = 'poly'),\n",
    "    \n",
    "    #GLM\n",
    "    linear_model.LinearRegression(),\n",
    "    linear_model.LogisticRegression(),\n",
    "    linear_model.Ridge(),\n",
    "    linear_model.Lasso(),\n",
    "    linear_model.ElasticNet(),\n",
    "    \n",
    "    #XGBR\n",
    "    XGBRegressor()\n",
    "    \n",
    "]"
   ]
  },
  {
   "cell_type": "code",
   "execution_count": 158,
   "metadata": {},
   "outputs": [
    {
     "data": {
      "text/html": [
       "<div>\n",
       "<style scoped>\n",
       "    .dataframe tbody tr th:only-of-type {\n",
       "        vertical-align: middle;\n",
       "    }\n",
       "\n",
       "    .dataframe tbody tr th {\n",
       "        vertical-align: top;\n",
       "    }\n",
       "\n",
       "    .dataframe thead th {\n",
       "        text-align: right;\n",
       "    }\n",
       "</style>\n",
       "<table border=\"1\" class=\"dataframe\">\n",
       "  <thead>\n",
       "    <tr style=\"text-align: right;\">\n",
       "      <th></th>\n",
       "      <th>MLA Name</th>\n",
       "      <th>MLA Parameters</th>\n",
       "      <th>MLA Train Accuracy Mean</th>\n",
       "      <th>MLA Test Accuracy Mean</th>\n",
       "      <th>MLA Test Accuracy 3*STD</th>\n",
       "      <th>MLA Time</th>\n",
       "    </tr>\n",
       "  </thead>\n",
       "  <tbody>\n",
       "  </tbody>\n",
       "</table>\n",
       "</div>"
      ],
      "text/plain": [
       "Empty DataFrame\n",
       "Columns: [MLA Name, MLA Parameters, MLA Train Accuracy Mean, MLA Test Accuracy Mean, MLA Test Accuracy 3*STD, MLA Time]\n",
       "Index: []"
      ]
     },
     "execution_count": 158,
     "metadata": {},
     "output_type": "execute_result"
    }
   ],
   "source": [
    "cv_split = model_selection.ShuffleSplit(n_splits = 10, test_size = 0.3, train_size = .6, random_state = 0)\n",
    "MLA_columns = ['MLA Name', 'MLA Parameters','MLA Train Accuracy Mean', 'MLA Test Accuracy Mean', 'MLA Test Accuracy 3*STD' ,'MLA Time']\n",
    "MLA_compare = pd.DataFrame(columns = MLA_columns)\n",
    "\n",
    "MLA_compare"
   ]
  },
  {
   "cell_type": "code",
   "execution_count": 162,
   "metadata": {},
   "outputs": [],
   "source": [
    "Target = ['W']\n",
    "MLA_predict = RS_ML[Target]\n",
    "x_bin = ['Ghome','R','AB','H','2B','3B','HR','SB','BB','RA','HA','HRA','BBA','SOA','E','FP']\n",
    "x_bin2 = ['R','RA']"
   ]
  },
  {
   "cell_type": "code",
   "execution_count": 163,
   "metadata": {},
   "outputs": [
    {
     "data": {
      "text/html": [
       "<div>\n",
       "<style scoped>\n",
       "    .dataframe tbody tr th:only-of-type {\n",
       "        vertical-align: middle;\n",
       "    }\n",
       "\n",
       "    .dataframe tbody tr th {\n",
       "        vertical-align: top;\n",
       "    }\n",
       "\n",
       "    .dataframe thead th {\n",
       "        text-align: right;\n",
       "    }\n",
       "</style>\n",
       "<table border=\"1\" class=\"dataframe\">\n",
       "  <thead>\n",
       "    <tr style=\"text-align: right;\">\n",
       "      <th></th>\n",
       "      <th>MLA Name</th>\n",
       "      <th>MLA Parameters</th>\n",
       "      <th>MLA Train Accuracy Mean</th>\n",
       "      <th>MLA Test Accuracy Mean</th>\n",
       "      <th>MLA Test Accuracy 3*STD</th>\n",
       "      <th>MLA Time</th>\n",
       "    </tr>\n",
       "  </thead>\n",
       "  <tbody>\n",
       "    <tr>\n",
       "      <th>9</th>\n",
       "      <td>XGBRegressor</td>\n",
       "      <td>{'base_score': 0.5, 'booster': 'gbtree', 'cols...</td>\n",
       "      <td>0.884426</td>\n",
       "      <td>0.827455</td>\n",
       "      <td>0.0450265</td>\n",
       "      <td>0.054452</td>\n",
       "    </tr>\n",
       "    <tr>\n",
       "      <th>4</th>\n",
       "      <td>LinearRegression</td>\n",
       "      <td>{'copy_X': True, 'fit_intercept': True, 'n_job...</td>\n",
       "      <td>0.807874</td>\n",
       "      <td>0.795996</td>\n",
       "      <td>0.0559089</td>\n",
       "      <td>0.00199471</td>\n",
       "    </tr>\n",
       "    <tr>\n",
       "      <th>6</th>\n",
       "      <td>Ridge</td>\n",
       "      <td>{'alpha': 1.0, 'copy_X': True, 'fit_intercept'...</td>\n",
       "      <td>0.807874</td>\n",
       "      <td>0.795996</td>\n",
       "      <td>0.0559089</td>\n",
       "      <td>0.00169387</td>\n",
       "    </tr>\n",
       "    <tr>\n",
       "      <th>8</th>\n",
       "      <td>ElasticNet</td>\n",
       "      <td>{'alpha': 1.0, 'copy_X': True, 'fit_intercept'...</td>\n",
       "      <td>0.807873</td>\n",
       "      <td>0.795992</td>\n",
       "      <td>0.0558669</td>\n",
       "      <td>0.00129597</td>\n",
       "    </tr>\n",
       "    <tr>\n",
       "      <th>7</th>\n",
       "      <td>Lasso</td>\n",
       "      <td>{'alpha': 1.0, 'copy_X': True, 'fit_intercept'...</td>\n",
       "      <td>0.807872</td>\n",
       "      <td>0.795989</td>\n",
       "      <td>0.0558314</td>\n",
       "      <td>0.0016952</td>\n",
       "    </tr>\n",
       "    <tr>\n",
       "      <th>1</th>\n",
       "      <td>BaggingRegressor</td>\n",
       "      <td>{'base_estimator': None, 'bootstrap': True, 'b...</td>\n",
       "      <td>0.963729</td>\n",
       "      <td>0.789543</td>\n",
       "      <td>0.0481805</td>\n",
       "      <td>0.0275273</td>\n",
       "    </tr>\n",
       "    <tr>\n",
       "      <th>2</th>\n",
       "      <td>RandomForestRegressor</td>\n",
       "      <td>{'bootstrap': True, 'criterion': 'mse', 'max_d...</td>\n",
       "      <td>0.961795</td>\n",
       "      <td>0.788541</td>\n",
       "      <td>0.0590507</td>\n",
       "      <td>0.0274257</td>\n",
       "    </tr>\n",
       "    <tr>\n",
       "      <th>0</th>\n",
       "      <td>AdaBoostRegressor</td>\n",
       "      <td>{'base_estimator': None, 'learning_rate': 1.0,...</td>\n",
       "      <td>0.78876</td>\n",
       "      <td>0.759355</td>\n",
       "      <td>0.0549408</td>\n",
       "      <td>0.0797927</td>\n",
       "    </tr>\n",
       "    <tr>\n",
       "      <th>5</th>\n",
       "      <td>LogisticRegression</td>\n",
       "      <td>{'C': 1.0, 'class_weight': None, 'dual': False...</td>\n",
       "      <td>0.0841492</td>\n",
       "      <td>0.0631988</td>\n",
       "      <td>0.0253486</td>\n",
       "      <td>0.103621</td>\n",
       "    </tr>\n",
       "    <tr>\n",
       "      <th>3</th>\n",
       "      <td>SVR</td>\n",
       "      <td>{'C': 1.0, 'cache_size': 200, 'coef0': 0.0, 'd...</td>\n",
       "      <td>0.118854</td>\n",
       "      <td>0.00109184</td>\n",
       "      <td>0.0123829</td>\n",
       "      <td>0.138303</td>\n",
       "    </tr>\n",
       "  </tbody>\n",
       "</table>\n",
       "</div>"
      ],
      "text/plain": [
       "                MLA Name                                     MLA Parameters  \\\n",
       "9           XGBRegressor  {'base_score': 0.5, 'booster': 'gbtree', 'cols...   \n",
       "4       LinearRegression  {'copy_X': True, 'fit_intercept': True, 'n_job...   \n",
       "6                  Ridge  {'alpha': 1.0, 'copy_X': True, 'fit_intercept'...   \n",
       "8             ElasticNet  {'alpha': 1.0, 'copy_X': True, 'fit_intercept'...   \n",
       "7                  Lasso  {'alpha': 1.0, 'copy_X': True, 'fit_intercept'...   \n",
       "1       BaggingRegressor  {'base_estimator': None, 'bootstrap': True, 'b...   \n",
       "2  RandomForestRegressor  {'bootstrap': True, 'criterion': 'mse', 'max_d...   \n",
       "0      AdaBoostRegressor  {'base_estimator': None, 'learning_rate': 1.0,...   \n",
       "5     LogisticRegression  {'C': 1.0, 'class_weight': None, 'dual': False...   \n",
       "3                    SVR  {'C': 1.0, 'cache_size': 200, 'coef0': 0.0, 'd...   \n",
       "\n",
       "  MLA Train Accuracy Mean MLA Test Accuracy Mean MLA Test Accuracy 3*STD  \\\n",
       "9                0.884426               0.827455               0.0450265   \n",
       "4                0.807874               0.795996               0.0559089   \n",
       "6                0.807874               0.795996               0.0559089   \n",
       "8                0.807873               0.795992               0.0558669   \n",
       "7                0.807872               0.795989               0.0558314   \n",
       "1                0.963729               0.789543               0.0481805   \n",
       "2                0.961795               0.788541               0.0590507   \n",
       "0                 0.78876               0.759355               0.0549408   \n",
       "5               0.0841492              0.0631988               0.0253486   \n",
       "3                0.118854             0.00109184               0.0123829   \n",
       "\n",
       "     MLA Time  \n",
       "9    0.054452  \n",
       "4  0.00199471  \n",
       "6  0.00169387  \n",
       "8  0.00129597  \n",
       "7   0.0016952  \n",
       "1   0.0275273  \n",
       "2   0.0274257  \n",
       "0   0.0797927  \n",
       "5    0.103621  \n",
       "3    0.138303  "
      ]
     },
     "execution_count": 163,
     "metadata": {},
     "output_type": "execute_result"
    }
   ],
   "source": [
    "row_index = 0\n",
    "for alg in MLA:\n",
    "    \n",
    "    MLA_name = alg.__class__.__name__\n",
    "    MLA_compare.loc[row_index, 'MLA Name'] = MLA_name\n",
    "    MLA_compare.loc[row_index, 'MLA Parameters'] = str(alg.get_params())\n",
    "    \n",
    "    cv_results = model_selection.cross_validate(alg, RS_ML[x_bin2], RS_ML[Target], cv = cv_split)\n",
    "    \n",
    "    MLA_compare.loc[row_index, 'MLA Time'] = cv_results['fit_time'].mean()\n",
    "    MLA_compare.loc[row_index, 'MLA Train Accuracy Mean'] = cv_results['train_score'].mean()\n",
    "    MLA_compare.loc[row_index, 'MLA Test Accuracy Mean'] = cv_results['test_score'].mean()   \n",
    "    MLA_compare.loc[row_index, 'MLA Test Accuracy 3*STD'] = cv_results['test_score'].std()*3\n",
    "    \n",
    "    alg.fit(RS_ML[x_bin2], RS_ML[Target])\n",
    "    MLA_predict[MLA_name] = alg.predict(RS_ML[x_bin2])\n",
    "    \n",
    "    row_index+=1\n",
    "    \n",
    "\n",
    "    \n",
    "MLA_compare.sort_values(by = ['MLA Test Accuracy Mean'], ascending = False, inplace = True)\n",
    "warnings.filterwarnings('ignore')\n",
    "MLA_compare"
   ]
  },
  {
   "cell_type": "markdown",
   "metadata": {},
   "source": [
    "# Best of the Best"
   ]
  },
  {
   "cell_type": "code",
   "execution_count": 164,
   "metadata": {},
   "outputs": [
    {
     "name": "stdout",
     "output_type": "stream",
     "text": [
      "[0.82591443 0.8527584  0.67749119 0.71044006 0.80362863]\n",
      "\n",
      "Average score: 0.7740465416312939\n"
     ]
    }
   ],
   "source": [
    "lnr = linear_model.LinearRegression()\n",
    "\n",
    "scores = cross_val_score(lnr, RS_ML[x_bin2], RS_ML[Target], cv = 5)\n",
    "\n",
    "print(scores)\n",
    "print()\n",
    "print('Average score:', np.mean(scores))\n",
    "\n",
    "y_predlnr = cross_val_predict(lnr, RS_ML[x_bin2], RS_ML[Target], cv = 5)\n",
    "#conf_mat = confusion_matrix(RS_ML[Target], y_pred)"
   ]
  },
  {
   "cell_type": "code",
   "execution_count": 165,
   "metadata": {},
   "outputs": [
    {
     "name": "stdout",
     "output_type": "stream",
     "text": [
      "[0.82591444 0.8527584  0.67749118 0.71044006 0.80362863]\n",
      "\n",
      "Average score: 0.7740465425619834\n"
     ]
    }
   ],
   "source": [
    "rdg = linear_model.Ridge()\n",
    "\n",
    "scores = cross_val_score(rdg, RS_ML[x_bin2], RS_ML[Target], cv = 5)\n",
    "\n",
    "print(scores)\n",
    "print()\n",
    "print('Average score:', np.mean(scores))"
   ]
  },
  {
   "cell_type": "code",
   "execution_count": 166,
   "metadata": {},
   "outputs": [
    {
     "name": "stdout",
     "output_type": "stream",
     "text": [
      "[0.82592548 0.85275412 0.67748583 0.71043936 0.80363012]\n",
      "\n",
      "Average score: 0.7740469834552762\n"
     ]
    }
   ],
   "source": [
    "eln = linear_model.ElasticNet(alpha = 0.1, l1_ratio = 0.5)\n",
    "\n",
    "scores = cross_val_score(eln, RS_ML[x_bin2], RS_ML[Target], cv = 5)\n",
    "\n",
    "print(scores)\n",
    "print()\n",
    "print('Average score:', np.mean(scores))"
   ]
  },
  {
   "cell_type": "code",
   "execution_count": 167,
   "metadata": {},
   "outputs": [
    {
     "name": "stdout",
     "output_type": "stream",
     "text": [
      "[0.82610268 0.85267473 0.6773955  0.71042821 0.80365292]\n",
      "\n",
      "Average score: 0.7740508083962124\n"
     ]
    }
   ],
   "source": [
    "lso = linear_model.Lasso()\n",
    "\n",
    "scores = cross_val_score(lso, RS_ML[x_bin2], RS_ML[Target], cv = 5)\n",
    "\n",
    "print(scores)\n",
    "print()\n",
    "print('Average score:', np.mean(scores))"
   ]
  },
  {
   "cell_type": "markdown",
   "metadata": {},
   "source": [
    "# Prediction BreakDown"
   ]
  },
  {
   "cell_type": "code",
   "execution_count": 81,
   "metadata": {},
   "outputs": [],
   "source": [
    "x_bin3 = ['Ghome','R','AB','H','3B','HR','SB','BB','RA','HRA','BBA','SOA']\n",
    "\n",
    "X_train = RS_ML[x_bin2]\n",
    "X_train = X_train[:-30]\n",
    "\n",
    "X_test = df_2017[x_bin2] \n",
    "\n",
    "y_train = RS_ML[Target]\n",
    "y_train = y_train[:-30]\n",
    "y_test = df_2017[Target]"
   ]
  },
  {
   "cell_type": "code",
   "execution_count": 82,
   "metadata": {},
   "outputs": [
    {
     "data": {
      "text/html": [
       "<div>\n",
       "<style scoped>\n",
       "    .dataframe tbody tr th:only-of-type {\n",
       "        vertical-align: middle;\n",
       "    }\n",
       "\n",
       "    .dataframe tbody tr th {\n",
       "        vertical-align: top;\n",
       "    }\n",
       "\n",
       "    .dataframe thead th {\n",
       "        text-align: right;\n",
       "    }\n",
       "</style>\n",
       "<table border=\"1\" class=\"dataframe\">\n",
       "  <thead>\n",
       "    <tr style=\"text-align: right;\">\n",
       "      <th></th>\n",
       "      <th>W</th>\n",
       "      <th>W Pred</th>\n",
       "      <th>diff</th>\n",
       "    </tr>\n",
       "    <tr>\n",
       "      <th>teamID</th>\n",
       "      <th></th>\n",
       "      <th></th>\n",
       "      <th></th>\n",
       "    </tr>\n",
       "  </thead>\n",
       "  <tbody>\n",
       "    <tr>\n",
       "      <th>ARI2017</th>\n",
       "      <td>93</td>\n",
       "      <td>96.427977</td>\n",
       "      <td>-3.427977</td>\n",
       "    </tr>\n",
       "    <tr>\n",
       "      <th>ATL2017</th>\n",
       "      <td>72</td>\n",
       "      <td>72.160474</td>\n",
       "      <td>-0.160474</td>\n",
       "    </tr>\n",
       "    <tr>\n",
       "      <th>BAL2017</th>\n",
       "      <td>75</td>\n",
       "      <td>70.707768</td>\n",
       "      <td>4.292232</td>\n",
       "    </tr>\n",
       "    <tr>\n",
       "      <th>BOS2017</th>\n",
       "      <td>93</td>\n",
       "      <td>93.240532</td>\n",
       "      <td>-0.240532</td>\n",
       "    </tr>\n",
       "    <tr>\n",
       "      <th>CHA2017</th>\n",
       "      <td>67</td>\n",
       "      <td>68.477635</td>\n",
       "      <td>-1.477635</td>\n",
       "    </tr>\n",
       "  </tbody>\n",
       "</table>\n",
       "</div>"
      ],
      "text/plain": [
       "          W     W Pred      diff\n",
       "teamID                          \n",
       "ARI2017  93  96.427977 -3.427977\n",
       "ATL2017  72  72.160474 -0.160474\n",
       "BAL2017  75  70.707768  4.292232\n",
       "BOS2017  93  93.240532 -0.240532\n",
       "CHA2017  67  68.477635 -1.477635"
      ]
     },
     "execution_count": 82,
     "metadata": {},
     "output_type": "execute_result"
    }
   ],
   "source": [
    "prediction = []\n",
    "\n",
    "lnr.fit(X_train, y_train)\n",
    "win_pred = lnr.predict(X_test)\n",
    "\n",
    "#prediction['Lin Reg Prediction'] = win_pred\n",
    "\n",
    "y_preds = y_test\n",
    "\n",
    "y_preds['W Pred'] = win_pred\n",
    "\n",
    "y_preds['diff'] = y_preds['W'] - y_preds['W Pred']\n",
    "\n",
    "clusterOver = y_preds[y_preds['diff'] > 3]\n",
    "clusterUnder = y_preds[y_preds['diff'] < -3]\n",
    "\n",
    "y_preds.head()\n"
   ]
  },
  {
   "cell_type": "code",
   "execution_count": 100,
   "metadata": {},
   "outputs": [
    {
     "data": {
      "text/html": [
       "<div>\n",
       "<style scoped>\n",
       "    .dataframe tbody tr th:only-of-type {\n",
       "        vertical-align: middle;\n",
       "    }\n",
       "\n",
       "    .dataframe tbody tr th {\n",
       "        vertical-align: top;\n",
       "    }\n",
       "\n",
       "    .dataframe thead th {\n",
       "        text-align: right;\n",
       "    }\n",
       "</style>\n",
       "<table border=\"1\" class=\"dataframe\">\n",
       "  <thead>\n",
       "    <tr style=\"text-align: right;\">\n",
       "      <th></th>\n",
       "      <th>W</th>\n",
       "      <th>W Pred</th>\n",
       "      <th>diff</th>\n",
       "      <th>W Pred Ridge</th>\n",
       "    </tr>\n",
       "    <tr>\n",
       "      <th>teamID</th>\n",
       "      <th></th>\n",
       "      <th></th>\n",
       "      <th></th>\n",
       "      <th></th>\n",
       "    </tr>\n",
       "  </thead>\n",
       "  <tbody>\n",
       "    <tr>\n",
       "      <th>ARI2017</th>\n",
       "      <td>93</td>\n",
       "      <td>96.417164</td>\n",
       "      <td>-3.417164</td>\n",
       "      <td>96.417164</td>\n",
       "    </tr>\n",
       "    <tr>\n",
       "      <th>ATL2017</th>\n",
       "      <td>72</td>\n",
       "      <td>71.964520</td>\n",
       "      <td>0.035480</td>\n",
       "      <td>71.964520</td>\n",
       "    </tr>\n",
       "    <tr>\n",
       "      <th>BAL2017</th>\n",
       "      <td>75</td>\n",
       "      <td>70.856823</td>\n",
       "      <td>4.143177</td>\n",
       "      <td>70.856823</td>\n",
       "    </tr>\n",
       "    <tr>\n",
       "      <th>BOS2017</th>\n",
       "      <td>93</td>\n",
       "      <td>93.525863</td>\n",
       "      <td>-0.525863</td>\n",
       "      <td>93.525863</td>\n",
       "    </tr>\n",
       "    <tr>\n",
       "      <th>CHA2017</th>\n",
       "      <td>67</td>\n",
       "      <td>68.264320</td>\n",
       "      <td>-1.264320</td>\n",
       "      <td>68.264320</td>\n",
       "    </tr>\n",
       "  </tbody>\n",
       "</table>\n",
       "</div>"
      ],
      "text/plain": [
       "          W     W Pred      diff  W Pred Ridge\n",
       "teamID                                        \n",
       "ARI2017  93  96.417164 -3.417164     96.417164\n",
       "ATL2017  72  71.964520  0.035480     71.964520\n",
       "BAL2017  75  70.856823  4.143177     70.856823\n",
       "BOS2017  93  93.525863 -0.525863     93.525863\n",
       "CHA2017  67  68.264320 -1.264320     68.264320"
      ]
     },
     "execution_count": 100,
     "metadata": {},
     "output_type": "execute_result"
    }
   ],
   "source": [
    "rdg.fit(X_train, y_train)\n",
    "win_predR = rdg.predict(X_test)\n",
    "\n",
    "#prediction['Lin Reg Prediction'] = win_pred\n",
    "\n",
    "y_predsR = y_test\n",
    "\n",
    "y_predsR['W Pred Ridge'] = win_predR\n",
    "\n",
    "y_predsR['diff'] = y_predsR['W'] - y_predsR['W Pred Ridge']\n",
    "\n",
    "\n",
    "y_predsR.head()"
   ]
  },
  {
   "cell_type": "code",
   "execution_count": 83,
   "metadata": {},
   "outputs": [
    {
     "data": {
      "text/plain": [
       "11"
      ]
     },
     "execution_count": 83,
     "metadata": {},
     "output_type": "execute_result"
    }
   ],
   "source": [
    "Cluster_Error_occ = len(clusterOver) + len(clusterUnder)\n",
    "\n",
    "Cluster_Error_occ"
   ]
  },
  {
   "cell_type": "code",
   "execution_count": 84,
   "metadata": {},
   "outputs": [
    {
     "data": {
      "text/plain": [
       "15.57023177897852"
      ]
     },
     "execution_count": 84,
     "metadata": {},
     "output_type": "execute_result"
    }
   ],
   "source": [
    "y_true = y_preds.drop(['W Pred', 'diff'], axis = 1)\n",
    "mean_squared_error(y_true, win_pred)"
   ]
  },
  {
   "cell_type": "code",
   "execution_count": 140,
   "metadata": {},
   "outputs": [
    {
     "name": "stdout",
     "output_type": "stream",
     "text": [
      "GridSearchCV(cv=None, error_score='raise',\n",
      "       estimator=Ridge(alpha=1.0, copy_X=True, fit_intercept=True, max_iter=None,\n",
      "   normalize=False, random_state=None, solver='auto', tol=0.001),\n",
      "       fit_params=None, iid=True, n_jobs=1,\n",
      "       param_grid={'alpha': array([1.e+00, 1.e-01, 1.e-02, 1.e-03, 1.e-04, 0.e+00])},\n",
      "       pre_dispatch='2*n_jobs', refit=True, return_train_score='warn',\n",
      "       scoring=None, verbose=0)\n",
      "0.8922626447079337\n",
      "1.0\n"
     ]
    }
   ],
   "source": [
    "from sklearn.model_selection import GridSearchCV\n",
    "\n",
    "rdg.fit(X_train, y_train)\n",
    "win_predR = rdg.predict(X_test)\n",
    "\n",
    "#prediction['Lin Reg Prediction'] = win_pred\n",
    "\n",
    "y_predsR = y_test\n",
    "\n",
    "y_predsR['W Pred Ridge'] = win_predR\n",
    "\n",
    "y_predsR['diff'] = y_predsR['W'] - y_predsR['W Pred Ridge']\n",
    "\n",
    "alphas = np.array([1,0.1,0.01,0.001,0.0001,0])\n",
    "\n",
    "grid = GridSearchCV(estimator=rdg, param_grid=dict(alpha=alphas))\n",
    "grid.fit(X_train, y_train)\n",
    "print(grid)\n",
    "print(grid.best_score_)\n",
    "print(grid.best_estimator_.alpha)"
   ]
  },
  {
   "cell_type": "code",
   "execution_count": 142,
   "metadata": {},
   "outputs": [
    {
     "ename": "TypeError",
     "evalue": "fit() got an unexpected keyword argument 'alpha'",
     "output_type": "error",
     "traceback": [
      "\u001b[1;31m---------------------------------------------------------------------------\u001b[0m",
      "\u001b[1;31mTypeError\u001b[0m                                 Traceback (most recent call last)",
      "\u001b[1;32m<ipython-input-142-2f15d98965d7>\u001b[0m in \u001b[0;36m<module>\u001b[1;34m()\u001b[0m\n\u001b[1;32m----> 1\u001b[1;33m \u001b[0meln\u001b[0m\u001b[1;33m.\u001b[0m\u001b[0mfit\u001b[0m\u001b[1;33m(\u001b[0m\u001b[0mX_train\u001b[0m\u001b[1;33m,\u001b[0m \u001b[0my_train\u001b[0m\u001b[1;33m,\u001b[0m \u001b[0malpha\u001b[0m \u001b[1;33m=\u001b[0m \u001b[1;36m0.1\u001b[0m\u001b[1;33m)\u001b[0m\u001b[1;33m\u001b[0m\u001b[0m\n\u001b[0m\u001b[0;32m      2\u001b[0m \u001b[0mwin_predE\u001b[0m \u001b[1;33m=\u001b[0m \u001b[0meln\u001b[0m\u001b[1;33m.\u001b[0m\u001b[0mpredict\u001b[0m\u001b[1;33m(\u001b[0m\u001b[0mX_test\u001b[0m\u001b[1;33m)\u001b[0m\u001b[1;33m\u001b[0m\u001b[0m\n\u001b[0;32m      3\u001b[0m \u001b[1;33m\u001b[0m\u001b[0m\n\u001b[0;32m      4\u001b[0m \u001b[1;31m#prediction['Lin Reg Prediction'] = win_pred\u001b[0m\u001b[1;33m\u001b[0m\u001b[1;33m\u001b[0m\u001b[0m\n\u001b[0;32m      5\u001b[0m \u001b[1;33m\u001b[0m\u001b[0m\n",
      "\u001b[1;31mTypeError\u001b[0m: fit() got an unexpected keyword argument 'alpha'"
     ]
    }
   ],
   "source": [
    "eln.fit(X_train, y_train)\n",
    "win_predE = eln.predict(X_test)\n",
    "\n",
    "#prediction['Lin Reg Prediction'] = win_pred\n",
    "\n",
    "y_predsE = y_test\n",
    "\n",
    "y_predsE['W Pred ElasticNet'] = win_predE\n",
    "\n",
    "y_predsE['diff'] = y_predsE['W'] - y_predsE['W Pred ElasticNet']\n",
    "\n",
    "alphas = np.array([1,0.1,0.01,0.001,0.0001,0])\n",
    "\n",
    "grid = GridSearchCV(estimator=eln, param_grid=dict(alpha=alphas))\n",
    "grid.fit(X_train, y_train)\n",
    "print(grid)\n",
    "print(grid.best_score_)\n",
    "print(grid.best_estimator_.alpha)"
   ]
  },
  {
   "cell_type": "code",
   "execution_count": 85,
   "metadata": {},
   "outputs": [],
   "source": [
    "vegas_2017 =  pd.read_csv(r'C:\\Users\\Chris Puglisi\\Data Science Projects\\Baseball Betting Hedge Fund\\Vegas Odds.csv')\n",
    "vegas_2017 = vegas_2017.sort_values('teamID')\n",
    "vegas_2017['teamID'] = vegas_2017['teamID'] + '2017'\n",
    "vegas_2017 = vegas_2017.set_index('teamID')\n",
    "\n",
    "vegas_2017['Actual W'] = df_2017['W']\n",
    "vegas_2017['Lin Reg Pred'] = y_preds['W Pred']"
   ]
  },
  {
   "cell_type": "code",
   "execution_count": 86,
   "metadata": {},
   "outputs": [],
   "source": [
    "py_pred =  pd.read_csv(r'C:\\Users\\Chris Puglisi\\Data Science Projects\\Baseball Betting Hedge Fund\\petaPred.csv')"
   ]
  },
  {
   "cell_type": "code",
   "execution_count": 87,
   "metadata": {},
   "outputs": [],
   "source": [
    "py_pred = py_pred.sort_values('teamID')\n",
    "py_pred['teamID'] = py_pred['teamID'] + '2017'\n",
    "py_pred = py_pred.set_index('teamID')\n"
   ]
  },
  {
   "cell_type": "code",
   "execution_count": 88,
   "metadata": {},
   "outputs": [],
   "source": [
    "py_pred['petaPred'] = py_pred['petaPred'] * 162\n"
   ]
  },
  {
   "cell_type": "code",
   "execution_count": 106,
   "metadata": {},
   "outputs": [
    {
     "data": {
      "text/html": [
       "<div>\n",
       "<style scoped>\n",
       "    .dataframe tbody tr th:only-of-type {\n",
       "        vertical-align: middle;\n",
       "    }\n",
       "\n",
       "    .dataframe tbody tr th {\n",
       "        vertical-align: top;\n",
       "    }\n",
       "\n",
       "    .dataframe thead th {\n",
       "        text-align: right;\n",
       "    }\n",
       "</style>\n",
       "<table border=\"1\" class=\"dataframe\">\n",
       "  <thead>\n",
       "    <tr style=\"text-align: right;\">\n",
       "      <th></th>\n",
       "      <th>Vegas W</th>\n",
       "      <th>Actual W</th>\n",
       "      <th>Lin Reg Pred</th>\n",
       "      <th>petaPred</th>\n",
       "      <th>lin per err</th>\n",
       "      <th>peta per err</th>\n",
       "      <th>Ridge Reg</th>\n",
       "      <th>Elastic Net</th>\n",
       "    </tr>\n",
       "    <tr>\n",
       "      <th>teamID</th>\n",
       "      <th></th>\n",
       "      <th></th>\n",
       "      <th></th>\n",
       "      <th></th>\n",
       "      <th></th>\n",
       "      <th></th>\n",
       "      <th></th>\n",
       "      <th></th>\n",
       "    </tr>\n",
       "  </thead>\n",
       "  <tbody>\n",
       "    <tr>\n",
       "      <th>ARI2017</th>\n",
       "      <td>78.5</td>\n",
       "      <td>93</td>\n",
       "      <td>96.427977</td>\n",
       "      <td>96.287977</td>\n",
       "      <td>3.685996</td>\n",
       "      <td>3.535459</td>\n",
       "      <td>96.417164</td>\n",
       "      <td>96.536876</td>\n",
       "    </tr>\n",
       "    <tr>\n",
       "      <th>ATL2017</th>\n",
       "      <td>71.5</td>\n",
       "      <td>72</td>\n",
       "      <td>72.160474</td>\n",
       "      <td>72.526962</td>\n",
       "      <td>0.222881</td>\n",
       "      <td>0.731891</td>\n",
       "      <td>71.964520</td>\n",
       "      <td>72.019768</td>\n",
       "    </tr>\n",
       "    <tr>\n",
       "      <th>BAL2017</th>\n",
       "      <td>84.5</td>\n",
       "      <td>75</td>\n",
       "      <td>70.707768</td>\n",
       "      <td>71.856612</td>\n",
       "      <td>-5.722976</td>\n",
       "      <td>-4.191184</td>\n",
       "      <td>70.856823</td>\n",
       "      <td>71.172552</td>\n",
       "    </tr>\n",
       "    <tr>\n",
       "      <th>BOS2017</th>\n",
       "      <td>90.5</td>\n",
       "      <td>93</td>\n",
       "      <td>93.240532</td>\n",
       "      <td>92.875626</td>\n",
       "      <td>0.258637</td>\n",
       "      <td>-0.133735</td>\n",
       "      <td>93.525863</td>\n",
       "      <td>94.642333</td>\n",
       "    </tr>\n",
       "    <tr>\n",
       "      <th>CHA2017</th>\n",
       "      <td>73.5</td>\n",
       "      <td>67</td>\n",
       "      <td>68.477635</td>\n",
       "      <td>69.974650</td>\n",
       "      <td>2.205425</td>\n",
       "      <td>4.439776</td>\n",
       "      <td>68.264320</td>\n",
       "      <td>68.107533</td>\n",
       "    </tr>\n",
       "  </tbody>\n",
       "</table>\n",
       "</div>"
      ],
      "text/plain": [
       "         Vegas W  Actual W  Lin Reg Pred   petaPred  lin per err  \\\n",
       "teamID                                                             \n",
       "ARI2017     78.5        93     96.427977  96.287977     3.685996   \n",
       "ATL2017     71.5        72     72.160474  72.526962     0.222881   \n",
       "BAL2017     84.5        75     70.707768  71.856612    -5.722976   \n",
       "BOS2017     90.5        93     93.240532  92.875626     0.258637   \n",
       "CHA2017     73.5        67     68.477635  69.974650     2.205425   \n",
       "\n",
       "         peta per err  Ridge Reg  Elastic Net  \n",
       "teamID                                         \n",
       "ARI2017      3.535459  96.417164    96.536876  \n",
       "ATL2017      0.731891  71.964520    72.019768  \n",
       "BAL2017     -4.191184  70.856823    71.172552  \n",
       "BOS2017     -0.133735  93.525863    94.642333  \n",
       "CHA2017      4.439776  68.264320    68.107533  "
      ]
     },
     "execution_count": 106,
     "metadata": {},
     "output_type": "execute_result"
    }
   ],
   "source": [
    "vegas_2017['petaPred'] = py_pred['petaPred']\n",
    "vegas_2017['Ridge Reg'] = y_predsR['W Pred Ridge']\n",
    "vegas_2017['Elastic Net'] = y_predsE['W Pred ElasticNet']\n",
    "\n",
    "vegas_2017.head()"
   ]
  },
  {
   "cell_type": "code",
   "execution_count": 109,
   "metadata": {},
   "outputs": [],
   "source": [
    "vegas_2017['lin per err'] =100* ((vegas_2017['Lin Reg Pred']-vegas_2017['Actual W'])/vegas_2017['Actual W'])\n",
    "vegas_2017['peta per err'] =100* ((vegas_2017['petaPred']-vegas_2017['Actual W'])/vegas_2017['Actual W'])\n",
    "vegas_2017['Ridge per err'] =100* ((vegas_2017['Ridge Reg']-vegas_2017['Actual W'])/vegas_2017['Actual W'])\n",
    "vegas_2017['Elast per err'] =100* ((vegas_2017['Elastic Net']-vegas_2017['Actual W'])/vegas_2017['Actual W'])\n"
   ]
  },
  {
   "cell_type": "code",
   "execution_count": 132,
   "metadata": {},
   "outputs": [],
   "source": [
    "vegas_2017_perEr = vegas_2017[['lin per err','peta per err','Ridge per err','Elast per err']]"
   ]
  },
  {
   "cell_type": "code",
   "execution_count": 133,
   "metadata": {},
   "outputs": [],
   "source": [
    "vegas_2017_perEr = vegas_2017_perEr.abs()"
   ]
  },
  {
   "cell_type": "code",
   "execution_count": 134,
   "metadata": {},
   "outputs": [],
   "source": [
    "vegas_2017_perEr['Best Method'] = vegas_2017_perEr.idxmin(axis=1)"
   ]
  },
  {
   "cell_type": "code",
   "execution_count": 137,
   "metadata": {},
   "outputs": [
    {
     "data": {
      "text/plain": [
       "peta per err     12\n",
       "Elast per err     8\n",
       "lin per err       8\n",
       "Ridge per err     2\n",
       "Name: Best Method, dtype: int64"
      ]
     },
     "execution_count": 137,
     "metadata": {},
     "output_type": "execute_result"
    }
   ],
   "source": [
    "vegas_2017_perEr['Best Method'].value_counts()\n",
    "#vegas_2017_perEr"
   ]
  },
  {
   "cell_type": "code",
   "execution_count": 92,
   "metadata": {},
   "outputs": [
    {
     "name": "stdout",
     "output_type": "stream",
     "text": [
      "The coefficient for Ghome is 0.6575506005539471\n",
      "The coefficient for R is 0.0897070733952808\n",
      "The coefficient for AB is 0.0009730627549906385\n",
      "The coefficient for H is 0.007055258075729879\n",
      "The coefficient for 2B is -0.006961286638246479\n",
      "The coefficient for 3B is 0.0057769712683772255\n",
      "The coefficient for HR is 0.011001845092272236\n",
      "The coefficient for SB is 0.0046476961843246595\n",
      "The coefficient for BB is 0.006351079275097367\n",
      "The coefficient for RA is -0.0963878068350838\n",
      "The coefficient for HA is 0.0004965357339465916\n",
      "The coefficient for HRA is -0.007638985930775854\n",
      "The coefficient for BBA is -0.003839642853437167\n",
      "The coefficient for SOA is 0.0024110616975730626\n",
      "The coefficient for E is 0.08447480969519476\n",
      "The coefficient for FP is 565.4613523703599\n"
     ]
    }
   ],
   "source": [
    "for idx, col_name in enumerate(X_train.columns):\n",
    "    print(\"The coefficient for {} is {}\".format(col_name, lnr.coef_[0][idx]))"
   ]
  },
  {
   "cell_type": "code",
   "execution_count": 93,
   "metadata": {},
   "outputs": [],
   "source": [
    "#x_bin3 = ['Ghome','R','AB','H','2B','3B','HR','SB','BB','RA','HA','HRA','BBA','SOA','E','FP']\n",
    "rdg.fit(X_train, y_train)\n",
    "win_pred = rdg.predict(X_test)"
   ]
  },
  {
   "cell_type": "code",
   "execution_count": 94,
   "metadata": {},
   "outputs": [
    {
     "name": "stdout",
     "output_type": "stream",
     "text": [
      "The coefficient for Ghome is 0.6993569361499391\n",
      "The coefficient for R is 0.08882510956183577\n",
      "The coefficient for AB is 0.0023388174915137078\n",
      "The coefficient for H is 0.006870559812663055\n",
      "The coefficient for 2B is -0.007400634248284474\n",
      "The coefficient for 3B is 0.00513064412959362\n",
      "The coefficient for HR is 0.01228048231447278\n",
      "The coefficient for SB is 0.005887126233388014\n",
      "The coefficient for BB is 0.006677562850302219\n",
      "The coefficient for RA is -0.09856845513040068\n",
      "The coefficient for HA is 0.0021617031086006828\n",
      "The coefficient for HRA is -0.008707710006277946\n",
      "The coefficient for BBA is -0.0037741767395162644\n",
      "The coefficient for SOA is 0.0020923912819956264\n",
      "The coefficient for E is -0.0033434476801975617\n",
      "The coefficient for FP is 0.3259344370948475\n"
     ]
    }
   ],
   "source": [
    "for idx, col_name in enumerate(X_train.columns):\n",
    "    print(\"The coefficient for {} is {}\".format(col_name, rdg.coef_[0][idx]))"
   ]
  },
  {
   "cell_type": "code",
   "execution_count": 95,
   "metadata": {},
   "outputs": [],
   "source": [
    "lso.fit(X_train, y_train)\n",
    "win_pred = lso.predict(X_test)"
   ]
  },
  {
   "cell_type": "code",
   "execution_count": 97,
   "metadata": {},
   "outputs": [
    {
     "data": {
      "text/plain": [
       "array([ 1.32951364e-01,  9.05569952e-02,  1.15022174e-02,  1.31731169e-04,\n",
       "       -7.20539356e-03,  8.38110592e-04,  5.59069124e-03,  6.98452169e-03,\n",
       "        7.93649881e-03, -1.02289685e-01,  3.99046891e-03, -1.80439017e-03,\n",
       "       -3.00400974e-03,  2.39280808e-03, -0.00000000e+00,  0.00000000e+00])"
      ]
     },
     "execution_count": 97,
     "metadata": {},
     "output_type": "execute_result"
    }
   ],
   "source": [
    "lso.coef_"
   ]
  },
  {
   "cell_type": "code",
   "execution_count": null,
   "metadata": {},
   "outputs": [],
   "source": []
  }
 ],
 "metadata": {
  "kernelspec": {
   "display_name": "Python 3",
   "language": "python",
   "name": "python3"
  },
  "language_info": {
   "codemirror_mode": {
    "name": "ipython",
    "version": 3
   },
   "file_extension": ".py",
   "mimetype": "text/x-python",
   "name": "python",
   "nbconvert_exporter": "python",
   "pygments_lexer": "ipython3",
   "version": "3.7.0"
  }
 },
 "nbformat": 4,
 "nbformat_minor": 2
}
