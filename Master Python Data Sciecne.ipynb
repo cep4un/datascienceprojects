{
 "cells": [
  {
   "cell_type": "markdown",
   "metadata": {},
   "source": [
    "# Intro Python Class One"
   ]
  },
  {
   "cell_type": "code",
   "execution_count": 3,
   "metadata": {},
   "outputs": [],
   "source": [
    "#Printing With a Function\n",
    "def main():\n",
    "    print(\"hello world\")"
   ]
  },
  {
   "cell_type": "code",
   "execution_count": 7,
   "metadata": {},
   "outputs": [
    {
     "name": "stdout",
     "output_type": "stream",
     "text": [
      "hello world\n"
     ]
    }
   ],
   "source": [
    "if __name__ == \"__main__\":\n",
    "    main()"
   ]
  },
  {
   "cell_type": "code",
   "execution_count": 8,
   "metadata": {},
   "outputs": [],
   "source": [
    "#functions\n",
    "def func1():\n",
    "    print(\"Thor\")"
   ]
  },
  {
   "cell_type": "code",
   "execution_count": 12,
   "metadata": {},
   "outputs": [],
   "source": [
    "def func(arg1, arg2):\n",
    "    print(arg1, \" \", arg2)"
   ]
  },
  {
   "cell_type": "code",
   "execution_count": 16,
   "metadata": {},
   "outputs": [],
   "source": [
    "def cube(num, x=1):\n",
    "    result=1\n",
    "    for i in range(x):\n",
    "        result = result * num\n",
    "    return result"
   ]
  },
  {
   "cell_type": "code",
   "execution_count": 19,
   "metadata": {},
   "outputs": [],
   "source": [
    "def multi_add(*args):\n",
    "    result = 0\n",
    "    for x in args:\n",
    "        result = result + x\n",
    "    return result"
   ]
  },
  {
   "cell_type": "code",
   "execution_count": 20,
   "metadata": {},
   "outputs": [
    {
     "data": {
      "text/plain": [
       "11"
      ]
     },
     "execution_count": 20,
     "metadata": {},
     "output_type": "execute_result"
    }
   ],
   "source": [
    "multi_add(2,3,5,1)"
   ]
  },
  {
   "cell_type": "code",
   "execution_count": 22,
   "metadata": {},
   "outputs": [],
   "source": [
    "#Conditions\n",
    "\n",
    "#if\n",
    "#elif\n",
    "#else"
   ]
  },
  {
   "cell_type": "code",
   "execution_count": 23,
   "metadata": {},
   "outputs": [],
   "source": [
    "x, y = 2,6\n",
    "\n",
    "st = \"X is less than y\" if (x<y) else \"x is greater than or the same as y\""
   ]
  },
  {
   "cell_type": "code",
   "execution_count": 24,
   "metadata": {},
   "outputs": [
    {
     "name": "stdout",
     "output_type": "stream",
     "text": [
      "X is less than y\n"
     ]
    }
   ],
   "source": [
    "print(st)"
   ]
  },
  {
   "cell_type": "code",
   "execution_count": 31,
   "metadata": {},
   "outputs": [
    {
     "name": "stdout",
     "output_type": "stream",
     "text": [
      "mon\n",
      "wed\n"
     ]
    }
   ],
   "source": [
    "#loops\n",
    "#while and for loops\n",
    "\n",
    "# - while (x<5):\n",
    "    \n",
    "# - for x in range(5,10):\n",
    "\n",
    "days= [\"mon\", \"tue\", \"wed\"]\n",
    "for p in days:\n",
    "    if (p ==\"tue\"): continue #break will end loop compeletely\n",
    "    \n",
    "    print(p)\n",
    "    "
   ]
  },
  {
   "cell_type": "code",
   "execution_count": 32,
   "metadata": {},
   "outputs": [
    {
     "name": "stdout",
     "output_type": "stream",
     "text": [
      "0 mon\n",
      "1 tue\n",
      "2 wed\n"
     ]
    }
   ],
   "source": [
    "# or you can do\n",
    "\n",
    "for i,d in enumerate(days):\n",
    "    print(i,d)"
   ]
  },
  {
   "cell_type": "code",
   "execution_count": 60,
   "metadata": {},
   "outputs": [],
   "source": [
    " #Classes\n",
    "    \n",
    "class myClass():\n",
    "    def method1(self):\n",
    "        print(\"meth1\")\n",
    "        \n",
    "    def method2(self, someString):\n",
    "        print(\"meth2\"+ someString)\n",
    "        \n",
    "class anotherclass(myClass):        \n",
    "    def method1(self):\n",
    "        myClass.method2(self, \"yeti\")\n",
    "        print(\"another meth1\")\n",
    "        \n",
    "    def method2(self, someString):\n",
    "        print(\"another meth2\")\n",
    "    \n",
    "    \n",
    "def main():\n",
    "    c = myClass()\n",
    "    c2 = anotherclass()\n",
    "    #c.method1()\n",
    "    #c.method2(\"woop\")\n",
    "\n",
    "    c2.method1()\n",
    "    "
   ]
  },
  {
   "cell_type": "code",
   "execution_count": 61,
   "metadata": {},
   "outputs": [
    {
     "name": "stdout",
     "output_type": "stream",
     "text": [
      "meth2yeti\n",
      "another meth1\n"
     ]
    }
   ],
   "source": [
    "main()"
   ]
  },
  {
   "cell_type": "markdown",
   "metadata": {},
   "source": [
    "\n",
    "# Dates and Times"
   ]
  },
  {
   "cell_type": "code",
   "execution_count": 7,
   "metadata": {},
   "outputs": [],
   "source": [
    "from datetime import date\n",
    "from datetime import time\n",
    "from datetime import datetime"
   ]
  },
  {
   "cell_type": "code",
   "execution_count": 77,
   "metadata": {},
   "outputs": [],
   "source": [
    " def main():\n",
    "        today = date.today()\n",
    "        print(\"Todays date is \", today)\n",
    "        print(today.month)\n",
    "        print(today.weekday())\n",
    "        \n",
    "        days = ['mon','tue','wed','thur','fri', 'sat', 'sun']\n",
    "        print(\"Which is a: \", days[today.weekday()])"
   ]
  },
  {
   "cell_type": "code",
   "execution_count": 78,
   "metadata": {},
   "outputs": [
    {
     "name": "stdout",
     "output_type": "stream",
     "text": [
      "Todays date is  2018-12-19\n",
      "12\n",
      "2\n",
      "Which is a:  wed\n"
     ]
    }
   ],
   "source": [
    "main()"
   ]
  },
  {
   "cell_type": "code",
   "execution_count": 81,
   "metadata": {},
   "outputs": [],
   "source": [
    "def main():\n",
    "    today = datetime.now()\n",
    "    print(today)\n",
    "    t = datetime.time(datetime.now())\n",
    "    print(t)"
   ]
  },
  {
   "cell_type": "code",
   "execution_count": 82,
   "metadata": {},
   "outputs": [
    {
     "name": "stdout",
     "output_type": "stream",
     "text": [
      "2018-12-19 17:13:18.998910\n",
      "17:13:18.999908\n"
     ]
    }
   ],
   "source": [
    "main()"
   ]
  },
  {
   "cell_type": "code",
   "execution_count": 95,
   "metadata": {},
   "outputs": [],
   "source": [
    "#Format DateTime\n",
    "\n",
    "def main():\n",
    "    \n",
    "    now = datetime.now()\n",
    "    print(now.strftime(\"%a, %d %B, %y\"))\n",
    "    \n",
    "    print(now.strftime(\"locale date and time %c\"))\n",
    "    print(now.strftime(\"locale date %x\"))\n",
    "    print(now.strftime(\"locale time %X\"))\n",
    "    \n",
    "    print(now.strftime(\"locale time %I:%M:%S %p\"))"
   ]
  },
  {
   "cell_type": "code",
   "execution_count": 96,
   "metadata": {},
   "outputs": [
    {
     "name": "stdout",
     "output_type": "stream",
     "text": [
      "Wed, 19 December, 18\n",
      "locale date and time Wed Dec 19 17:18:16 2018\n",
      "locale date 12/19/18\n",
      "locale time 17:18:16\n",
      "locale time 05:18:16 PM\n"
     ]
    }
   ],
   "source": [
    "main()"
   ]
  },
  {
   "cell_type": "code",
   "execution_count": 1,
   "metadata": {},
   "outputs": [],
   "source": [
    "from datetime import timedelta"
   ]
  },
  {
   "cell_type": "code",
   "execution_count": 3,
   "metadata": {},
   "outputs": [
    {
     "name": "stdout",
     "output_type": "stream",
     "text": [
      "365 days, 5:01:00\n"
     ]
    }
   ],
   "source": [
    "print(timedelta(days=365, hours = 5, minutes=1))"
   ]
  },
  {
   "cell_type": "code",
   "execution_count": 10,
   "metadata": {},
   "outputs": [
    {
     "name": "stdout",
     "output_type": "stream",
     "text": [
      "one year from now it is2019-12-20 17:35:34.381175\n",
      "2019-01-12 17:35:34.381175\n"
     ]
    }
   ],
   "source": [
    "now = datetime.now()\n",
    "print(\"one year from now it is\" + str(now+ timedelta(days = 365)))\n",
    "print(str(now+timedelta(days = 2, weeks =3)))"
   ]
  },
  {
   "cell_type": "code",
   "execution_count": 11,
   "metadata": {},
   "outputs": [],
   "source": [
    "#Calendars\n",
    "\n",
    "import calendar"
   ]
  },
  {
   "cell_type": "code",
   "execution_count": 16,
   "metadata": {},
   "outputs": [
    {
     "name": "stdout",
     "output_type": "stream",
     "text": [
      "    August 2018\n",
      "Su Mo Tu We Th Fr Sa\n",
      "          1  2  3  4\n",
      " 5  6  7  8  9 10 11\n",
      "12 13 14 15 16 17 18\n",
      "19 20 21 22 23 24 25\n",
      "26 27 28 29 30 31\n",
      "\n"
     ]
    }
   ],
   "source": [
    "c = calendar.TextCalendar(calendar.SUNDAY)\n",
    "st = c.formatmonth(2018, 8, 0, 0)\n",
    "print(st)"
   ]
  },
  {
   "cell_type": "code",
   "execution_count": 19,
   "metadata": {},
   "outputs": [
    {
     "ename": "IndentationError",
     "evalue": "unexpected indent (<ipython-input-19-0ec67e28ba04>, line 2)",
     "output_type": "error",
     "traceback": [
      "\u001b[1;36m  File \u001b[1;32m\"<ipython-input-19-0ec67e28ba04>\"\u001b[1;36m, line \u001b[1;32m2\u001b[0m\n\u001b[1;33m    print(i)\u001b[0m\n\u001b[1;37m    ^\u001b[0m\n\u001b[1;31mIndentationError\u001b[0m\u001b[1;31m:\u001b[0m unexpected indent\n"
     ]
    }
   ],
   "source": [
    "#for i in c.itermonthdays(2018, 9):\n",
    "   # print(i)"
   ]
  },
  {
   "cell_type": "code",
   "execution_count": 21,
   "metadata": {},
   "outputs": [
    {
     "name": "stdout",
     "output_type": "stream",
     "text": [
      "\n",
      "January\n",
      "February\n",
      "March\n",
      "April\n",
      "May\n",
      "June\n",
      "July\n",
      "August\n",
      "September\n",
      "October\n",
      "November\n",
      "December\n",
      "Monday\n",
      "Tuesday\n",
      "Wednesday\n",
      "Thursday\n",
      "Friday\n",
      "Saturday\n",
      "Sunday\n"
     ]
    }
   ],
   "source": [
    "for name in calendar.month_name:\n",
    "    print(name)\n",
    "    \n",
    "for day in calendar.day_name:\n",
    "    print(day)"
   ]
  },
  {
   "cell_type": "code",
   "execution_count": 24,
   "metadata": {},
   "outputs": [
    {
     "name": "stdout",
     "output_type": "stream",
     "text": [
      "Team meeetins\n",
      "   January  5\n",
      "  February  2\n",
      "     March  2\n",
      "     April  6\n",
      "       May  4\n",
      "      June  1\n",
      "      July  6\n",
      "    August  3\n",
      " September  7\n",
      "   October  5\n",
      "  November  2\n",
      "  December  7\n"
     ]
    }
   ],
   "source": [
    "print(\"Team meeetins\")\n",
    "for m in range(1,13):\n",
    "    cal = calendar.monthcalendar(2018,m)\n",
    "    weekone = cal[0]\n",
    "    weektwo = cal[1]\n",
    "    \n",
    "    if weekone[calendar.FRIDAY] != 0:\n",
    "        meetday = weekone[calendar.FRIDAY]\n",
    "    else: \n",
    "        meetday = weektwo[calendar.FRIDAY]\n",
    "        \n",
    "        \n",
    "    print(\"%10s %2d\" % (calendar.month_name[m], meetday))"
   ]
  },
  {
   "cell_type": "markdown",
   "metadata": {},
   "source": [
    "# File Reading"
   ]
  },
  {
   "cell_type": "code",
   "execution_count": 3,
   "metadata": {},
   "outputs": [],
   "source": [
    "def main():\n",
    "    f = open(\"textfile.txt\", \"w+\")\n",
    "    f = open(\"textfile.txt\", \"a\")\n",
    "    for i in range(10):\n",
    "        f.write(\"line number: \" +str(i) + \"\\r\\n\")\n",
    "        \n",
    "    f.close()"
   ]
  },
  {
   "cell_type": "code",
   "execution_count": 4,
   "metadata": {},
   "outputs": [],
   "source": [
    "main()"
   ]
  },
  {
   "cell_type": "code",
   "execution_count": 6,
   "metadata": {},
   "outputs": [
    {
     "name": "stdout",
     "output_type": "stream",
     "text": [
      "line number: 0\n",
      "\n",
      "line number: 1\n",
      "\n",
      "line number: 2\n",
      "\n",
      "line number: 3\n",
      "\n",
      "line number: 4\n",
      "\n",
      "line number: 5\n",
      "\n",
      "line number: 6\n",
      "\n",
      "line number: 7\n",
      "\n",
      "line number: 8\n",
      "\n",
      "line number: 9\n",
      "\n",
      "\n"
     ]
    }
   ],
   "source": [
    "f = open(\"textfile.txt\", \"r\")\n",
    "\n",
    "if f.mode == 'r':\n",
    "    contents = f.read()\n",
    "    fl = f.readlines()\n",
    "    for x in fl:\n",
    "        print(x)\n",
    "    print(contents)"
   ]
  },
  {
   "cell_type": "code",
   "execution_count": 16,
   "metadata": {},
   "outputs": [],
   "source": [
    "import os\n",
    "from os import path\n",
    "import datetime\n",
    "from datetime import date, time, timedelta\n",
    "import time\n",
    "\n",
    "\n",
    "def main():\n",
    "    print(os.name)\n",
    "    \n",
    "    print(\"Item Exists: \" + str(path.exists(\"textfile.txt\")))\n",
    "    print(\"Item is a file: \" + str(path.isfile(\"textfile.txt\")))\n",
    "    print(\"Item is a dir: \" + str(path.isdir(\"textfile.txt\")))\n",
    "    print(\"item path:\" + str(path.realpath(\"textfile.txt\")))\n",
    "    print(\"item path and name: \" + str(path.split(path.realpath(\"textfile.txt\"))))\n",
    "    \n",
    "    t = time.ctime(path.getmtime(\"textfile.txt\"))\n",
    "    print(t)\n",
    "    print(datetime.datetime.fromtimestamp(path.getmtime('textfile.txt')))"
   ]
  },
  {
   "cell_type": "code",
   "execution_count": 17,
   "metadata": {
    "scrolled": true
   },
   "outputs": [
    {
     "name": "stdout",
     "output_type": "stream",
     "text": [
      "nt\n",
      "Item Exists: True\n",
      "Item is a file: True\n",
      "Item is a dir: False\n",
      "item path:C:\\Users\\Chris Puglisi\\Data Science Projects\\Mastering Data Science Python\\textfile.txt\n",
      "item path and name: ('C:\\\\Users\\\\Chris Puglisi\\\\Data Science Projects\\\\Mastering Data Science Python', 'textfile.txt')\n",
      "Fri Dec 21 21:01:33 2018\n",
      "2018-12-21 21:01:33.317470\n"
     ]
    }
   ],
   "source": [
    "main()"
   ]
  },
  {
   "cell_type": "markdown",
   "metadata": {},
   "source": [
    "# Share in a ZIP"
   ]
  },
  {
   "cell_type": "code",
   "execution_count": 26,
   "metadata": {},
   "outputs": [],
   "source": [
    "import shutil\n",
    "from shutil import make_archive\n",
    "import zipfile\n",
    "from zipfile import ZipFile\n",
    "\n",
    "def main():\n",
    "    if path.exists(\"textfile.txt\"):\n",
    "        src = path.realpath(\"textfile.txt\")\n",
    "        \n",
    "        dst = src + \".bak\"\n",
    "        \n",
    "       # shutil.copy(src, dst)\n",
    "        #shutil.copystat(src, dst)\n",
    "        \n",
    "        #os.rename(\"textfile.txt\",\"backupfile.txt\")\n",
    "        \n",
    "        #root_dir, tail = path.split(src)\n",
    "        #how to compress entire directory\n",
    "        \n",
    "        #shutil.make_archive(\"archive\", \"zip\", root_dir)\n",
    "        \n",
    "        with ZipFile(\"testzip.zip\", \"w\") as newzip:\n",
    "            newzip.write(\"textfile.txt\")\n",
    "            \n",
    "            #write multiple files to make a legit zip\n",
    "          #  newzip.write(\"textfile.txt.bak\")"
   ]
  },
  {
   "cell_type": "code",
   "execution_count": 27,
   "metadata": {},
   "outputs": [],
   "source": [
    "main()"
   ]
  },
  {
   "cell_type": "markdown",
   "metadata": {},
   "source": [
    "# Get data from internet"
   ]
  },
  {
   "cell_type": "code",
   "execution_count": 28,
   "metadata": {},
   "outputs": [],
   "source": [
    "import urllib.request"
   ]
  },
  {
   "cell_type": "code",
   "execution_count": 33,
   "metadata": {},
   "outputs": [],
   "source": [
    "def main():\n",
    "    webUrl = urllib.request.urlopen(\"http://www.google.com\")\n",
    "    print(\"Result code: \" +str(webUrl.getcode()))\n",
    "    \n",
    "    data = webUrl.read()\n",
    "    print(data)\n",
    "    "
   ]
  },
  {
   "cell_type": "code",
   "execution_count": 57,
   "metadata": {},
   "outputs": [],
   "source": [
    "import json\n",
    "\n",
    "def printResults(data):\n",
    "    theJSON = json.loads(data)\n",
    "    \n",
    "    if \"title\" in theJSON[\"metadata\"]:\n",
    "        print(theJSON[\"metadata\"][\"title\"])\n",
    "        \n",
    "        count = theJSON[\"metadata\"][\"count\"]\n",
    "        print(str(count) + \" events recorded\")\n",
    "        \n",
    "        for i in theJSON[\"features\"]:\n",
    "            print(i[\"properties\"][\"place\"])\n",
    "            \n",
    "        for i in theJSON[\"features\"]:\n",
    "            if i[\"properties\"][\"mag\"] >= 4.0:\n",
    "                print(\"%2.1f\" % i[\"properties\"][\"mag\"], i[\"properties\"][\"place\"])\n",
    "            \n",
    "        for i in theJSON[\"features\"]:\n",
    "            feltReports = i[\"properties\"][\"felt\"]\n",
    "            if feltReports != None:\n",
    "                if feltReports > 0:\n",
    "                    print(\"%2.1f\" % i[\"properties\"][\"mag\"], i[\"properties\"][\"place\"], \"reported \" + str(feltReports) + \" times\")\n",
    "    \n",
    "def main():\n",
    "    urlData = \"https://earthquake.usgs.gov/earthquakes/feed/v1.0/summary/2.5_day.geojson\"\n",
    "    \n",
    "    webUrl = urllib.request.urlopen(urlData)\n",
    "    \n",
    "    print(\"result code: \" + str(webUrl.getcode()))\n",
    "    \n",
    "    if (webUrl.getcode() == 200):\n",
    "        data = webUrl.read()\n",
    "        printResults(data)\n",
    "        \n",
    "    else:\n",
    "        print(\"Recieved error, cant parse\")\n",
    "    "
   ]
  },
  {
   "cell_type": "markdown",
   "metadata": {},
   "source": [
    "# Structured Data"
   ]
  },
  {
   "cell_type": "code",
   "execution_count": 22,
   "metadata": {},
   "outputs": [
    {
     "name": "stdout",
     "output_type": "stream",
     "text": [
      "['paper', 'scissors', 'lizard', 'spock']\n",
      "scissors\n",
      "Dad, rock, paper, Computer\n",
      "4\n",
      "Dad rock paper Computer \n"
     ]
    }
   ],
   "source": [
    "list = [1,2,3,4,5] #mutable\n",
    "tuple = (1,2,3,4,5) # immut\n",
    "dict = {\"a\":1, \"b\":2, \"c\":3}\n",
    "set = {1,2,3,4,5} # unordered unique values\n",
    "\n",
    "#\n",
    "#\n",
    "# LISTS & TUPLES\n",
    "#\n",
    "#\n",
    "\n",
    "def main():\n",
    "    game = ['rock', 'paper', 'scissors','lizard','spock']\n",
    "    print(game[1:5:1]) # start : end : step\n",
    "    i = game.index('paper')\n",
    "    print(game[i+1])\n",
    "    game.append('Computer')\n",
    "    game.insert(0, 'Dad')\n",
    "    game.remove('lizard')\n",
    "    del game[3:5]\n",
    "    \n",
    "    print(', '.join(game))\n",
    "    print(len(game))\n",
    "    print_list(game)\n",
    "    \n",
    "    #cant edit tuple\n",
    "    \n",
    "def print_list(o):\n",
    "    for i in o: print(i, end=' ', flush=True)\n",
    "    print()\n",
    "    \n",
    "main()"
   ]
  },
  {
   "cell_type": "code",
   "execution_count": 36,
   "metadata": {},
   "outputs": [
    {
     "name": "stdout",
     "output_type": "stream",
     "text": [
      "cat\n",
      "dog\n",
      "lion\n",
      "dragon\n",
      "meow\n",
      "ruff\n",
      "grrr\n",
      "rawr\n",
      "True\n",
      "I am lion\n",
      "None\n",
      "cat: meow\n",
      "dog: ruff\n",
      "lion: I am lion\n",
      "dragon: rawr\n",
      "monkey: haha\n"
     ]
    }
   ],
   "source": [
    "#k = key, v=value\n",
    "\n",
    "def main():\n",
    "    animals = {'cat':'meow', 'dog': 'ruff', 'lion': 'grrr', 'dragon':'rawr'}\n",
    "    \n",
    "    for k in animals.keys(): print(k)\n",
    "    for v in animals.values(): print(v)\n",
    "        \n",
    "        \n",
    "    animals['lion'] = 'I am lion'\n",
    "    \n",
    "    animals['monkey'] = 'haha'\n",
    "    \n",
    "    print('lion' in animals)\n",
    "    print(animals['lion'])\n",
    "    \n",
    "    print(animals.get('yeet'))\n",
    "\n",
    "    \n",
    "    print_dict(animals)\n",
    "    \n",
    "def print_dict(o):\n",
    "    for k, v in o.items(): print(f'{k}: {v}')\n",
    "        \n",
    "if __name__ == '__main__' : main()"
   ]
  },
  {
   "cell_type": "code",
   "execution_count": 38,
   "metadata": {},
   "outputs": [
    {
     "data": {
      "text/plain": [
       "[0, 2, 4, 6, 8, 10, 12, 14, 16, 18, 20]"
      ]
     },
     "execution_count": 38,
     "metadata": {},
     "output_type": "execute_result"
    }
   ],
   "source": [
    "#set is list, with no duplicate elements\n",
    "seq = range(11)\n",
    "\n",
    "seq2 = [x*2 for x in seq]\n",
    "\n",
    "seq2"
   ]
  },
  {
   "cell_type": "markdown",
   "metadata": {},
   "source": [
    "# Classese, Prt 2"
   ]
  },
  {
   "cell_type": "code",
   "execution_count": 40,
   "metadata": {},
   "outputs": [
    {
     "name": "stdout",
     "output_type": "stream",
     "text": [
      "Quack quack\n",
      "walks like a duck\n"
     ]
    }
   ],
   "source": [
    "class Duck:\n",
    "    sound = 'Quack quack'\n",
    "    movement= 'walks like a duck'\n",
    "    \n",
    "#self is traditional, refers to object\n",
    "    \n",
    "    def quack(self):\n",
    "        print(self.sound)\n",
    "        \n",
    "    def move(self):\n",
    "        print(self.movement)\n",
    "        \n",
    "def main():\n",
    "    donald = Duck() # donald is object bc it references class\n",
    "    donald.quack() #gets to method\n",
    "    donald.move()\n",
    "    \n",
    "main()"
   ]
  },
  {
   "cell_type": "code",
   "execution_count": 41,
   "metadata": {},
   "outputs": [],
   "source": [
    "class Animal:\n",
    "    def __init__(self, type, name, sound):\n",
    "        self._type = type\n",
    "        self._name = name\n",
    "        self._sound = sound\n",
    "        \n",
    "    def type(self):\n",
    "        return self._type"
   ]
  },
  {
   "cell_type": "code",
   "execution_count": null,
   "metadata": {},
   "outputs": [],
   "source": []
  }
 ],
 "metadata": {
  "kernelspec": {
   "display_name": "Python 3",
   "language": "python",
   "name": "python3"
  },
  "language_info": {
   "codemirror_mode": {
    "name": "ipython",
    "version": 3
   },
   "file_extension": ".py",
   "mimetype": "text/x-python",
   "name": "python",
   "nbconvert_exporter": "python",
   "pygments_lexer": "ipython3",
   "version": "3.7.0"
  }
 },
 "nbformat": 4,
 "nbformat_minor": 2
}
